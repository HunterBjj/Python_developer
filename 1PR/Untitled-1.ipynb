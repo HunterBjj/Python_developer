{
 "cells": [
  {
   "cell_type": "markdown",
   "metadata": {},
   "source": [
    "Задание: написать программу, которая будет приветствовать нового человека в мире Python. Текст сообщения: Hello NAME SURNAME! You just delved into Python. Great start!"
   ]
  },
  {
   "cell_type": "code",
   "execution_count": 1,
   "metadata": {},
   "outputs": [
    {
     "name": "stdout",
     "output_type": "stream",
     "text": [
      "11\n"
     ]
    }
   ],
   "source": [
    "text = input('Введите текст:')\n",
    "print(text.upper())"
   ]
  },
  {
   "cell_type": "markdown",
   "metadata": {},
   "source": [
    "Задание: написать программу, которая выведет заголовок, используя заданный текст. Подсказка: используйте метод title.Выполнение программы\n"
   ]
  },
  {
   "cell_type": "code",
   "execution_count": 4,
   "metadata": {},
   "outputs": [
    {
     "name": "stdout",
     "output_type": "stream",
     "text": [
      "111\n"
     ]
    }
   ],
   "source": [
    "text = input('Введите текст:')\n",
    "print(text.title())"
   ]
  },
  {
   "cell_type": "markdown",
   "metadata": {},
   "source": [
    "Задание: написать программу, которая распечатает число в принятом денежном формате: XXX,XXX.XX.\n"
   ]
  },
  {
   "cell_type": "code",
   "execution_count": 10,
   "metadata": {},
   "outputs": [
    {
     "name": "stdout",
     "output_type": "stream",
     "text": [
      "12,345,678.00 \n"
     ]
    }
   ],
   "source": [
    "num = input('Введите число:')\n",
    "c =float(num)\n",
    "print('{0:,.2f} '.format(c))"
   ]
  },
  {
   "cell_type": "markdown",
   "metadata": {},
   "source": [
    "    H    \n",
    "   HHH   \n",
    "  HHHHH  \n",
    " HHHHHHH \n",
    "HHHHHHHHH\n",
    "  HHHHH               HHHHH             \n",
    "  HHHHH               HHHHH             \n",
    "  HHHHH               HHHHH             \n",
    "  HHHHH               HHHHH             \n",
    "  HHHHH               HHHHH             \n",
    "  HHHHH               HHHHH             \n",
    "  HHHHHHHHHHHHHHHHHHHHHHHHH   \n",
    "  HHHHHHHHHHHHHHHHHHHHHHHHH   \n",
    "  HHHHHHHHHHHHHHHHHHHHHHHHH   \n",
    "  HHHHH               HHHHH             \n",
    "  HHHHH               HHHHH             \n",
    "  HHHHH               HHHHH             \n",
    "  HHHHH               HHHHH             \n",
    "  HHHHH               HHHHH             \n",
    "  HHHHH               HHHHH             \n",
    "                    HHHHHHHHH \n",
    "                     HHHHHHH  \n",
    "                      HHHHH   \n",
    "                       HHH    \n",
    "                        H "
   ]
  },
  {
   "cell_type": "code",
   "execution_count": 9,
   "metadata": {},
   "outputs": [
    {
     "name": "stdout",
     "output_type": "stream",
     "text": [
      "    H    \n",
      "   HHH   \n",
      "  HHHHH  \n",
      " HHHHHHH \n",
      "HHHHHHHHH\n",
      "  HHHHH               HHHHH             \n",
      "  HHHHH               HHHHH             \n",
      "  HHHHH               HHHHH             \n",
      "  HHHHH               HHHHH             \n",
      "  HHHHH               HHHHH             \n",
      "  HHHHH               HHHHH             \n",
      "  HHHHHHHHHHHHHHHHHHHHHHHHH   \n",
      "  HHHHHHHHHHHHHHHHHHHHHHHHH   \n",
      "  HHHHHHHHHHHHHHHHHHHHHHHHH   \n",
      "  HHHHH               HHHHH             \n",
      "  HHHHH               HHHHH             \n",
      "  HHHHH               HHHHH             \n",
      "  HHHHH               HHHHH             \n",
      "  HHHHH               HHHHH             \n",
      "  HHHHH               HHHHH             \n",
      "                    HHHHHHHHH \n",
      "                     HHHHHHH  \n",
      "                      HHHHH   \n",
      "                       HHH    \n",
      "                        H     \n"
     ]
    }
   ],
   "source": [
    "thickness = 5\n",
    "c = 'H'\n",
    "\n",
    "for i in range(thickness):\n",
    "    print((c*i).rjust(thickness-1) + c + (c*i).ljust(thickness-1))\n",
    "for i in range(thickness+1):\n",
    "    print((c*thickness).center(thickness*2) + (c*thickness).center(thickness*6))\n",
    "for i in range((thickness+1)//2):\n",
    "    print((c*thickness*5).center(thickness*6))  \n",
    "for i in range(thickness+1):\n",
    "    print((c*thickness).center(thickness*2) + (c*thickness).center(thickness*6))   \n",
    "for i in range(thickness):\n",
    "    print(((c*(thickness-i-1)).rjust(thickness) + c + (c*(thickness-i-1)).ljust(thickness)).rjust(thickness*6))# .rjust позиционирует вправо указанную строку, дополняя её слева до указанной длины указанным символом\n",
    "    \n"
   ]
  },
  {
   "cell_type": "markdown",
   "metadata": {},
   "source": [
    "---------------.|.---------------\n",
    "------------.|..|..|.------------\n",
    "---------.|..|..|..|..|.---------\n",
    "------.|..|..|..|..|..|..|.------\n",
    "---.|..|..|..|..|..|..|..|..|.---\n",
    "-------------WELCOME-------------\n",
    "---.|..|..|..|..|..|..|..|..|.---\n",
    "------.|..|..|..|..|..|..|.------\n",
    "---------.|..|..|..|..|.---------\n",
    "------------.|..|..|.------------\n",
    "---------------.|.---------------"
   ]
  },
  {
   "cell_type": "code",
   "execution_count": 8,
   "metadata": {},
   "outputs": [
    {
     "name": "stdout",
     "output_type": "stream",
     "text": [
      "-------------- .|. --------------\n",
      "------------ .|.  .|. -----------\n",
      "--------- .|.  .|.  .|. ---------\n",
      "------- .|.  .|.  .|.  .|. ------\n",
      "---- .|.  .|.  .|.  .|.  .|. ----\n",
      "--------------Welcom-------------\n",
      "---- .|.  .|.  .|.  .|.  .|. ----\n",
      "------- .|.  .|.  .|.  .|. ------\n",
      "--------- .|.  .|.  .|. ---------\n",
      "------------ .|.  .|. -----------\n",
      "-------------- .|. --------------\n"
     ]
    }
   ],
   "source": [
    "\n",
    "height = 11\n",
    "width = height * 3\n",
    "for stick_count in range(1, 6): # range(start, stop, step)\n",
    "    print((\" .|. \"*stick_count).center(width, \"-\")) \n",
    "\n",
    "print(\"Welcom\".center(width,\"-\"))\n",
    "\n",
    "for stick_count in range(5, 0,-1):\n",
    "    print((\" .|. \"*stick_count).center(width, \"-\"))\n"
   ]
  }
 ],
 "metadata": {
  "kernelspec": {
   "display_name": "Python 3.10.8 64-bit",
   "language": "python",
   "name": "python3"
  },
  "language_info": {
   "codemirror_mode": {
    "name": "ipython",
    "version": 3
   },
   "file_extension": ".py",
   "mimetype": "text/x-python",
   "name": "python",
   "nbconvert_exporter": "python",
   "pygments_lexer": "ipython3",
   "version": "3.10.8"
  },
  "orig_nbformat": 4,
  "vscode": {
   "interpreter": {
    "hash": "26de051ba29f2982a8de78e945f0abaf191376122a1563185a90213a26c5da77"
   }
  }
 },
 "nbformat": 4,
 "nbformat_minor": 2
}
